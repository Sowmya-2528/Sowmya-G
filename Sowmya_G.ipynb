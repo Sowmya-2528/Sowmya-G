{
  "nbformat": 4,
  "nbformat_minor": 0,
  "metadata": {
    "colab": {
      "provenance": [],
      "authorship_tag": "ABX9TyPf0Z2Tc8NaxkX/+xKfmjPG",
      "include_colab_link": true
    },
    "kernelspec": {
      "name": "python3",
      "display_name": "Python 3"
    },
    "language_info": {
      "name": "python"
    }
  },
  "cells": [
    {
      "cell_type": "markdown",
      "metadata": {
        "id": "view-in-github",
        "colab_type": "text"
      },
      "source": [
        "<a href=\"https://colab.research.google.com/github/Sowmya-2528/Sowmya-G/blob/main/Sowmya_G.ipynb\" target=\"_parent\"><img src=\"https://colab.research.google.com/assets/colab-badge.svg\" alt=\"Open In Colab\"/></a>"
      ]
    },
    {
      "cell_type": "code",
      "execution_count": null,
      "metadata": {
        "id": "AREQhzbqTYQU",
        "outputId": "0c261000-94ec-49bb-d466-8efe31a38e69",
        "colab": {
          "base_uri": "https://localhost:8080/"
        }
      },
      "outputs": [
        {
          "output_type": "stream",
          "name": "stdout",
          "text": [
            "Top movie recommendations for you:\n",
            "- Titanic (Match score: 2)\n",
            "- The Notebook (Match score: 2)\n",
            "- La La Land (Match score: 2)\n"
          ]
        }
      ],
      "source": [
        "# Sample movie database\n",
        "movies = [\n",
        "    {\"title\": \"Inception\", \"genres\": [\"Action\", \"Sci-Fi\", \"Thriller\"]},\n",
        "    {\"title\": \"The Notebook\", \"genres\": [\"Romance\", \"Drama\"]},\n",
        "    {\"title\": \"Avengers: Endgame\", \"genres\": [\"Action\", \"Superhero\", \"Adventure\"]},\n",
        "    {\"title\": \"Interstellar\", \"genres\": [\"Sci-Fi\", \"Drama\", \"Adventure\"]},\n",
        "    {\"title\": \"La La Land\", \"genres\": [\"Romance\", \"Musical\", \"Drama\"]},\n",
        "    {\"title\": \"The Dark Knight\", \"genres\": [\"Action\", \"Thriller\", \"Crime\"]},\n",
        "    {\"title\": \"Titanic\", \"genres\": [\"Romance\", \"Drama\", \"Disaster\"]}\n",
        "]\n",
        "\n",
        "# User's favorite genres (input)\n",
        "user_fav_genres = [\"Romance\", \"Drama\"]\n",
        "\n",
        "# Matchmaking function\n",
        "def recommend_movies(user_genres, movie_list):\n",
        "    recommendations = []\n",
        "    for movie in movie_list:\n",
        "        match_score = len(set(user_genres) & set(movie[\"genres\"]))  # common genres\n",
        "        recommendations.append((match_score, movie[\"title\"]))\n",
        "\n",
        "    # Sort by match score in descending order\n",
        "    recommendations.sort(reverse=True)\n",
        "\n",
        "    # Show top 3 recommendations\n",
        "    print(\"Top movie recommendations for you:\")\n",
        "    for score, title in recommendations[:3]:\n",
        "        print(f\"- {title} (Match score: {score})\")\n",
        "\n",
        "# Call the function\n",
        "recommend_movies(user_fav_genres, movies)"
      ]
    },
    {
      "cell_type": "code",
      "source": [],
      "metadata": {
        "id": "QFEG9OsreKIj"
      },
      "execution_count": null,
      "outputs": []
    }
  ]
}